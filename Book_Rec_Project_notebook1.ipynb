{
 "cells": [
  {
   "cell_type": "code",
   "execution_count": 1,
   "metadata": {},
   "outputs": [
    {
     "name": "stderr",
     "output_type": "stream",
     "text": [
      "/opt/anaconda3/lib/python3.7/site-packages/fuzzywuzzy/fuzz.py:11: UserWarning: Using slow pure-python SequenceMatcher. Install python-Levenshtein to remove this warning\n",
      "  warnings.warn('Using slow pure-python SequenceMatcher. Install python-Levenshtein to remove this warning')\n",
      "/opt/anaconda3/lib/python3.7/site-packages/IPython/core/interactiveshell.py:3058: DtypeWarning: Columns (6,13,29,31,32) have mixed types. Specify dtype option on import or set low_memory=False.\n",
      "  interactivity=interactivity, compiler=compiler, result=result)\n"
     ]
    }
   ],
   "source": [
    "#Import libraries \n",
    "import pandas as pd\n",
    "import numpy as np\n",
    "from scipy.sparse import csr_matrix\n",
    "from sklearn.neighbors import NearestNeighbors\n",
    "from fuzzywuzzy import fuzz\n",
    "from fuzzywuzzy import process\n",
    "data = pd.read_csv(\"merged_final.csv\")"
   ]
  },
  {
   "cell_type": "code",
   "execution_count": 2,
   "metadata": {},
   "outputs": [],
   "source": [
    "data2=data[['title','rating','user_id']] #Subset the data\n",
    "data3=data2.groupby('title')[['rating','user_id']].agg('count') #Groupby the title to get rating and user id for each book\n",
    "mask=data3['rating']>=10 #Remove any book with less than 10 total ratings\n",
    "data4=data3[mask] #Create a dataframe with only book with greater than 10 ratings \n",
    "merged_inner=pd.merge(left=data4,right=data2,left_on='title',right_on='title',how='inner') #Inner merge of data2 and data4 \n",
    "Final=merged_inner[['title','rating_y','user_id_y']] #Final data frame with the book title, rating, and user id "
   ]
  },
  {
   "cell_type": "code",
   "execution_count": 3,
   "metadata": {},
   "outputs": [],
   "source": [
    "#pivot ratings into book features\n",
    "df_book_features = pd.pivot_table(data=Final,\n",
    "    index='title',\n",
    "    columns='user_id_y',\n",
    "    values='rating_y',fill_value=0)\n",
    "title_list=df_book_features.index.tolist()"
   ]
  },
  {
   "cell_type": "code",
   "execution_count": 4,
   "metadata": {},
   "outputs": [],
   "source": [
    "#Creating a csr matrix \n",
    "mat_book_features = csr_matrix(df_book_features.values)"
   ]
  },
  {
   "cell_type": "code",
   "execution_count": 5,
   "metadata": {},
   "outputs": [],
   "source": [
    "#Options for the KNN model\n",
    "model_knn = NearestNeighbors(metric='cosine', algorithm='brute', n_neighbors=20, n_jobs=-1)"
   ]
  },
  {
   "cell_type": "code",
   "execution_count": 6,
   "metadata": {
    "scrolled": true
   },
   "outputs": [
    {
     "data": {
      "text/plain": [
       "NearestNeighbors(algorithm='brute', leaf_size=30, metric='cosine',\n",
       "                 metric_params=None, n_jobs=-1, n_neighbors=20, p=2,\n",
       "                 radius=1.0)"
      ]
     },
     "execution_count": 6,
     "metadata": {},
     "output_type": "execute_result"
    }
   ],
   "source": [
    "#Fitting the KNN model on the csr matrix \n",
    "model_knn.fit(mat_book_features)"
   ]
  },
  {
   "cell_type": "code",
   "execution_count": 41,
   "metadata": {},
   "outputs": [
    {
     "name": "stdout",
     "output_type": "stream",
     "text": [
      "What book have you recently read: Daredevil comic \n"
     ]
    }
   ],
   "source": [
    "#User input of the last book (Or entry into search engine)\n",
    "test_title=input(\"What book have you recently read: \")"
   ]
  },
  {
   "cell_type": "code",
   "execution_count": 42,
   "metadata": {},
   "outputs": [],
   "source": [
    "#Creating a list of titles to check input against \n",
    "query_index=title_list.index(process.extract(test_title,title_list)[0][0])"
   ]
  },
  {
   "cell_type": "code",
   "execution_count": 43,
   "metadata": {},
   "outputs": [
    {
     "name": "stdout",
     "output_type": "stream",
     "text": [
      "Recommendations for Red:\n",
      "\n",
      "1:Impossible Views of the World, with distance of 0.6450573962335544.\n",
      "2:A Strange Scottish Shore (Emmaline Truelove, #2), with distance of 0.6450573962335544.\n",
      "3:Forbidden Fruit, with distance of 0.6705183593240245.\n",
      "4:Rough Justice (Rosato & Associates, #3), with distance of 0.74384224021072.\n",
      "5:Austentatious, with distance of 0.7490176779447366.\n"
     ]
    }
   ],
   "source": [
    "#Creating the output for a given input book using cosine distance\n",
    "distances, indices = model_knn.kneighbors(df_book_features.iloc[query_index, :].values.reshape(1, -1), n_neighbors = 6)\n",
    "for i in range(0,len(distances.flatten())):\n",
    "    if i ==0:\n",
    "        print('Recommendations for {0}:\\n'.format(df_book_features.index[query_index]))\n",
    "    else:\n",
    "        print('{0}:{1}, with distance of {2}.'.format(i,df_book_features.index[indices.flatten()[i]],distances.flatten()[i]))"
   ]
  },
  {
   "cell_type": "code",
   "execution_count": 44,
   "metadata": {},
   "outputs": [
    {
     "name": "stdout",
     "output_type": "stream",
     "text": [
      "Recommendations for Red:\n",
      "\n",
      "1:A Strange Scottish Shore (Emmaline Truelove, #2), with distance of 10.583005244258363.\n",
      "2:Impossible Views of the World, with distance of 10.723805294763608.\n",
      "3:Austentatious, with distance of 11.0.\n",
      "4:Epic Big Nate, with distance of 11.269427669584644.\n",
      "5:The Iceberg, with distance of 11.269427669584644.\n"
     ]
    }
   ],
   "source": [
    "#Creating the output for a given input book using euclidean distance\n",
    "model_knn2 = NearestNeighbors(metric='euclidean', algorithm='brute', n_neighbors=20, n_jobs=-1)\n",
    "model_knn2.fit(mat_book_features)\n",
    "distances, indices = model_knn2.kneighbors(df_book_features.iloc[query_index, :].values.reshape(1, -1), n_neighbors = 6)\n",
    "for i in range(0,len(distances.flatten())):\n",
    "    if i ==0:\n",
    "        print('Recommendations for {0}:\\n'.format(df_book_features.index[query_index]))\n",
    "    else:\n",
    "        print('{0}:{1}, with distance of {2}.'.format(i,df_book_features.index[indices.flatten()[i]],distances.flatten()[i]))"
   ]
  },
  {
   "cell_type": "code",
   "execution_count": null,
   "metadata": {},
   "outputs": [],
   "source": []
  }
 ],
 "metadata": {
  "kernelspec": {
   "display_name": "Python 3",
   "language": "python",
   "name": "python3"
  },
  "language_info": {
   "codemirror_mode": {
    "name": "ipython",
    "version": 3
   },
   "file_extension": ".py",
   "mimetype": "text/x-python",
   "name": "python",
   "nbconvert_exporter": "python",
   "pygments_lexer": "ipython3",
   "version": "3.7.4"
  }
 },
 "nbformat": 4,
 "nbformat_minor": 2
}
